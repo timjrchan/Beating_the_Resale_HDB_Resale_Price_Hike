{
 "cells": [
  {
   "cell_type": "markdown",
   "metadata": {},
   "source": [
    "<img src=\"https://i.imgur.com/1ZcRyrc.png\" style=\"float: left; margin: 20px; height: 55px;\"/>\n",
    "\n",
    "\n",
    "# DSI-SG-42\n",
    "\n",
    "## Project Two - Regression Challenge (HDB Price)\n",
    "\n",
    "---"
   ]
  },
  {
   "cell_type": "markdown",
   "metadata": {},
   "source": [
    "\n",
    "# 2.1 Feature Selection"
   ]
  },
  {
   "cell_type": "code",
   "execution_count": 1,
   "metadata": {},
   "outputs": [
    {
     "name": "stdout",
     "output_type": "stream",
     "text": [
      "       id tranc_yearmonth             town  flat_type block       street_name storey_range  floor_area_sqm  flat_model  lease_commence_date  resale_price  tranc_year  tranc_month  mid_storey  lower  upper  mid       full_flat_type               address  price_per_sqft  hdb_age  max_floor_lvl  year_completed  commercial  market_hawker  multistorey_carpark  precinct_pavilion  total_dwelling_units  one_room_unit  two_room_unit  three_room_unit  four_room_unit  five_room_unit  exec_unit  multigen_unit  studio_apartment  one_room_rental  two_room_rental  three_room_rental  other_room_rental  postal  latitude   longitude planning_area  mall_nearest_distance  mall_within_500m  mall_within_1km  mall_within_2km  hawker_nearest_distance  hawker_within_500m  hawker_within_1km  hawker_within_2km  hawker_food_stalls  hawker_market_stalls  mrt_nearest_distance     mrt_name  bus_interchange  mrt_interchange  mrt_latitude  mrt_longitude  bus_stop_nearest_distance             bus_stop_name  bus_stop_latitude  bus_stop_longitude  pri_sch_nearest_distance                           pri_sch_name  vacancy  pri_sch_affiliation  pri_sch_latitude  pri_sch_longitude  sec_sch_nearest_dist                             sec_sch_name  cutoff_point  affiliation  sec_sch_latitude  sec_sch_longitude\n",
      "0   88471         2016-05  KALLANG/WHAMPOA     4 ROOM    3B  UPP BOON KENG RD     10 TO 12            90.0     Model A                 2006      680000.0        2016            5          11     10     12   11       4 ROOM Model A  3B, UPP BOON KENG RD      701.928238       15             25            2005           0              0                    0                  0                   142              0              0                0              96              46          0              0                 0                0                0                  0                  0  382003  1.314299  103.872828       Kallang            1094.090418                 0                0                7               154.753357                   1                  3                 13                  84                    60            330.083069      Kallang                0                0      1.311540     103.871731                  29.427395                    Blk 3B           1.314433          103.872600               1138.633422               Geylang Methodist School       78                    1          1.317659         103.882504           1138.633422                 Geylang Methodist School           224            0          1.317659         103.882504\n",
      "1  122598         2012-07           BISHAN     5 ROOM   153      BISHAN ST 13     07 TO 09           130.0    Improved                 1987      665000.0        2012            7           8      7      9    8      5 ROOM Improved     153, BISHAN ST 13      475.230826       34              9            1987           0              0                    0                  0                   112              0              0                0              56              56          0              0                 0                0                0                  0                  0  570153  1.346086  103.855078        Bishan             866.941448                 0                1                3               640.151925                   0                  1                  7                  80                    77            903.659703       Bishan                1                1      1.350580     103.848305                  58.207761              BLK 151A MKT           1.345659          103.855381                415.607357  Kuo Chuan Presbyterian Primary School       45                    1          1.349783         103.854529            447.894399  Kuo Chuan Presbyterian Secondary School           232            0          1.350110         103.854892\n",
      "2  170897         2013-07      BUKIT BATOK  EXECUTIVE  289B    BT BATOK ST 25     13 TO 15           144.0   Apartment                 1997      838000.0        2013            7          14     13     15   14  EXECUTIVE Apartment  289B, BT BATOK ST 25      540.639580       24             16            1996           0              0                    0                  0                    90              0              0                0               0              30         60              0                 0                0                0                  0                  0  651289  1.343867  103.760535   Bukit Batok            1459.579948                 0                0                4              1762.082341                   0                  0                  1                  84                    95           1334.251197  Bukit Batok                1                0      1.349561     103.749970                 214.747860                  Blk 289E           1.344064          103.758613                498.849039                  Keming Primary School       39                    0          1.345245         103.756265            180.074558             Yusof Ishak Secondary School           188            0          1.342334         103.760013\n",
      "3   86070         2012-04           BISHAN     4 ROOM   232      BISHAN ST 22     01 TO 05           103.0     Model A                 1992      550000.0        2012            4           3      1      5    3       4 ROOM Model A     232, BISHAN ST 22      496.080066       29             11            1990           1              0                    0                  0                    75              0              0                0              68               7          0              0                 0                0                0                  0                  0  570232  1.358245  103.845504        Bishan             950.175199                 0                1                4               726.215262                   0                  1                  9                  32                    86            907.453484       Bishan                1                1      1.350580     103.848305                  43.396521  Opp Bishan Nth Shop Mall           1.358045          103.845169                389.515528                   Catholic High School       20                    1          1.354789         103.844934            389.515528                     Catholic High School           253            1          1.354789         103.844934\n",
      "4  153632         2017-12           YISHUN     4 ROOM   876      YISHUN ST 81     01 TO 03            83.0  Simplified                 1987      298000.0        2017           12           2      1      3    2    4 ROOM Simplified     876, YISHUN ST 81      333.552717       34              4            1987           0              0                    0                  0                    48              0              0                0              30              18          0              0                 0                0                0                  0                  0  760876  1.414745  103.835532        Yishun             729.771895                 0                1                2              1540.151439                   0                  0                  1                  45                     0            412.343032       Khatib                0                0      1.417131     103.832692                 129.422752                   Blk 873           1.415424          103.836477                401.200584              Naval Base Primary School       74                    0          1.416280         103.838798            312.025435             Orchid Park Secondary School           208            0          1.414888         103.838335\n"
     ]
    }
   ],
   "source": [
    "# import libraries\n",
    "import pandas as pd\n",
    "import math\n",
    "\n",
    "# setting displays\n",
    "%matplotlib inline\n",
    "pd.set_option('display.width', 100000)\n",
    "pd.set_option('display.max_rows', None)\n",
    "pd.set_option('display.max_columns', None)\n",
    "\n",
    "\n",
    "# import cleaned data\n",
    "hdb_cleaned = pd.read_csv('../datasets/hdb_cleaned.csv', low_memory=False, index_col=0)\n",
    "\n",
    "print(hdb_cleaned.head())"
   ]
  },
  {
   "cell_type": "markdown",
   "metadata": {},
   "source": [
    "#### Feature selection \n",
    "\n",
    "Independent variables will be dropped systematically and they have been deemed to have multicollinearity or not to be used in this analysis."
   ]
  },
  {
   "cell_type": "code",
   "execution_count": 2,
   "metadata": {},
   "outputs": [],
   "source": [
    "# We will be dropping columns that are addresses or repeated variables of another name.\n",
    "# We assume that the rental units in the block will not be affecting the resale price of a unit in the same block. \n",
    "\n",
    "hdb_df = hdb_cleaned.drop(columns=['tranc_yearmonth', 'town', 'lease_commence_date', 'mid_storey', 'lower', 'upper', 'latitude', 'longitude',\n",
    "                                'full_flat_type', 'address', 'year_completed', 'postal', 'block','price_per_sqft', 'street_name', 'storey_range',\n",
    "                                'one_room_rental',  'two_room_rental',  'three_room_rental',  'other_room_rental'])\n",
    "\n",
    "\n",
    "# Visual inspection of the first 5 rows of the df\n",
    "#print(hdb_df.head())  # debug"
   ]
  },
  {
   "cell_type": "code",
   "execution_count": 3,
   "metadata": {},
   "outputs": [
    {
     "name": "stdout",
     "output_type": "stream",
     "text": [
      "flat_model\n",
      "Model A                   46261\n",
      "Improved                  38514\n",
      "New Generation            23366\n",
      "Premium Apartment         15091\n",
      "Simplified                 7239\n",
      "Apartment                  6080\n",
      "Standard                   4867\n",
      "Maisonette                 4364\n",
      "Model A2                   2064\n",
      "DBSS                       1658\n",
      "Model A-Maisonette          262\n",
      "Adjoined flat               260\n",
      "Type S1                     242\n",
      "Type S2                     127\n",
      "Terrace                      95\n",
      "Multi Generation             56\n",
      "Premium Apartment Loft       50\n",
      "Improved-Maisonette          19\n",
      "Premium Maisonette           15\n",
      "2-room                        4\n",
      "Name: count, dtype: int64\n"
     ]
    }
   ],
   "source": [
    "print(hdb_cleaned['flat_model'].value_counts())"
   ]
  },
  {
   "cell_type": "code",
   "execution_count": 4,
   "metadata": {},
   "outputs": [],
   "source": [
    "# Next we will be dropping the all boolean variables except multistorey_carpark, as it is an improvement from the open air carpark decades ago. \n",
    "\n",
    "hdb_df = hdb_df.drop(columns=['commercial', 'market_hawker', 'hawker_market_stalls', 'precinct_pavilion', 'cutoff_point', 'affiliation', 'vacancy'])\n",
    "\n",
    "# Visual inspection of the first 5 rows of the df\n",
    "#print(hdb_df.head()) # debug"
   ]
  },
  {
   "cell_type": "code",
   "execution_count": 5,
   "metadata": {},
   "outputs": [],
   "source": [
    "# Remove all most variables related to school except pri_sch_name\n",
    "# it has been selected for feature engineering\n",
    "\n",
    "hdb_df = hdb_df.drop(columns = ['pri_sch_nearest_distance', 'pri_sch_affiliation', 'pri_sch_latitude',\n",
    "                                'pri_sch_longitude', 'sec_sch_name', 'sec_sch_latitude', 'sec_sch_longitude', 'sec_sch_nearest_dist'])\n",
    "\n",
    "# Visual inspection of the first 5 rows of the df\n",
    "#print(hdb_df.head()) #debug"
   ]
  },
  {
   "cell_type": "code",
   "execution_count": 6,
   "metadata": {},
   "outputs": [
    {
     "name": "stdout",
     "output_type": "stream",
     "text": [
      "       id  flat_type  floor_area_sqm  flat_model  resale_price  tranc_year  tranc_month  mid  hdb_age  max_floor_lvl  multistorey_carpark  total_dwelling_units  one_room_unit  two_room_unit  three_room_unit  four_room_unit  five_room_unit  exec_unit  multigen_unit  studio_apartment planning_area  mall_nearest_distance  mall_within_500m  mall_within_1km  mall_within_2km  hawker_nearest_distance  hawker_within_500m  hawker_within_1km  hawker_within_2km  hawker_food_stalls  mrt_nearest_distance     mrt_name  bus_interchange  mrt_interchange  bus_stop_nearest_distance                           pri_sch_name\n",
      "0   88471     4 ROOM            90.0     Model A      680000.0        2016            5   11       15             25                    0                   142              0              0                0              96              46          0              0                 0       Kallang            1094.090418                 0                0                7               154.753357                   1                  3                 13                  84            330.083069      Kallang                0                0                  29.427395               Geylang Methodist School\n",
      "1  122598     5 ROOM           130.0    Improved      665000.0        2012            7    8       34              9                    0                   112              0              0                0              56              56          0              0                 0        Bishan             866.941448                 0                1                3               640.151925                   0                  1                  7                  80            903.659703       Bishan                1                1                  58.207761  Kuo Chuan Presbyterian Primary School\n",
      "2  170897  EXECUTIVE           144.0   Apartment      838000.0        2013            7   14       24             16                    0                    90              0              0                0               0              30         60              0                 0   Bukit Batok            1459.579948                 0                0                4              1762.082341                   0                  0                  1                  84           1334.251197  Bukit Batok                1                0                 214.747860                  Keming Primary School\n",
      "3   86070     4 ROOM           103.0     Model A      550000.0        2012            4    3       29             11                    0                    75              0              0                0              68               7          0              0                 0        Bishan             950.175199                 0                1                4               726.215262                   0                  1                  9                  32            907.453484       Bishan                1                1                  43.396521                   Catholic High School\n",
      "4  153632     4 ROOM            83.0  Simplified      298000.0        2017           12    2       34              4                    0                    48              0              0                0              30              18          0              0                 0        Yishun             729.771895                 0                1                2              1540.151439                   0                  0                  1                  45            412.343032       Khatib                0                0                 129.422752              Naval Base Primary School\n"
     ]
    }
   ],
   "source": [
    "# Remove most variables from the bus/mrt related columns\n",
    "\n",
    "hdb_df = hdb_df.drop(columns = ['mrt_latitude', 'mrt_longitude',  'bus_stop_name', 'bus_stop_latitude', 'bus_stop_longitude'])\n",
    "\n",
    "# Visual inspection of the first 5 rows of the df\n",
    "print(hdb_df.head())"
   ]
  },
  {
   "cell_type": "markdown",
   "metadata": {},
   "source": [
    "# 2.2 Feature Engineering\n",
    "\n",
    "We have selected a few independent variables that we will be engineering. \n",
    "\n",
    "- First, we identified that it is more likely young parents would prefer to reside near the primary school of choice as the child is still young to be considered taking public transport independently. Thus, we will create a new column with boolean values if there the school is one of the top 10 primary school in the list.\n",
    "\n",
    "note: there were schools such as Anglo-Chinese School (Primary) and Raffles Girls' Primary School that were not in the list and were excluded even though they were rated in the top 10. Thus, schools that are ranked 11th and 12th were included instead."
   ]
  },
  {
   "cell_type": "code",
   "execution_count": 7,
   "metadata": {},
   "outputs": [],
   "source": [
    "# Identify Top Primary Schools from https://schlah.com/primary-schools\n",
    "\n",
    "# define the list of top 10 schools\n",
    "top_pri = ['Rosyth School', 'Nan Hua Primary School', 'Saint Hilda\\'s Primary School', 'Catholic High School', 'Henry Park Primary School', \n",
    "               'Nanyang Primary School', 'Tao Nan School', 'Pei Hwa Presbyterian Primary School', 'CHIJ Saint Nicholas Girls\\' School', 'Kong Hwa School']\n",
    "\n",
    "\n",
    "top_pri = [x.lower() for x in top_pri] # lower case values\n",
    "top_pri = [x.replace(\"'\", '') for x in top_pri] # remove quotation marks\n",
    "top_pri = [x.strip() for x in top_pri] # remove leading and trailing whitespaces\n",
    "# print(top_pri) # check if changes have been made\n",
    "\n",
    "# lower case school names in pri_sch_names\n",
    "hdb_df['pri_sch_name'] = hdb_df['pri_sch_name'].str.lower()\n",
    "\n",
    "\n",
    "# create a new binary list if resale unit has top school nearby\n",
    "top_school = []\n",
    "\n",
    "for school in hdb_df['pri_sch_name']:\n",
    "    if any(school in top for top in top_pri):\n",
    "        top_school.append(1)\n",
    "    else:\n",
    "        top_school.append(0)\n",
    "\n",
    "hdb_df['nearby_top_sch'] = top_school # insert new list to df\n",
    "\n",
    "#print(hdb_df.head()) # debug\n"
   ]
  },
  {
   "cell_type": "markdown",
   "metadata": {},
   "source": [
    "- Secondly, we will want to calculate the proportions of each flat type in a block. We are assuming that blocks with higher proportions of greater than four room will fetch a higher resale value."
   ]
  },
  {
   "cell_type": "code",
   "execution_count": 8,
   "metadata": {},
   "outputs": [],
   "source": [
    "# Using a for-loop to calculuate proportions for the following columns\n",
    "\n",
    "# col = ['one_room_unit', 'two_room_unit', 'three_room_unit', 'four_room_unit', 'five_room_unit', 'exec_unit',\n",
    "#         'multigen_unit', 'studio_apartment']\n",
    "\n",
    "# Create empty lists\n",
    "prop_one_room = []\n",
    "prop_two_room = []\n",
    "prop_three_room = []\n",
    "prop_four_room = []\n",
    "prop_five_room = []\n",
    "prop_exec = []\n",
    "prop_multigen = []\n",
    "prop_studio_apt = []\n",
    "\n",
    "# Using a for-loop to calculate the proportions and append to the empty list above\n",
    "for index, room in hdb_df.iterrows():\n",
    "    # one room resale\n",
    "    one_room = room['one_room_unit'] / room['total_dwelling_units']  # calculate proportions\n",
    "    prop_one_room.append(one_room)                                  # append to new list\n",
    "    \n",
    "    # two room resale\n",
    "    two_room = room['two_room_unit'] / room['total_dwelling_units'] \n",
    "    prop_two_room.append(two_room)\n",
    "\n",
    "    # three room resale\n",
    "    three_room = room['three_room_unit'] / room['total_dwelling_units'] \n",
    "    prop_three_room.append(three_room)\n",
    "   \n",
    "    # four room resale\n",
    "    four_room = room['four_room_unit'] / room['total_dwelling_units'] \n",
    "    prop_four_room.append(four_room)\n",
    "\n",
    "    # five room resale\n",
    "    five_room = room['five_room_unit'] / room['total_dwelling_units'] \n",
    "    prop_five_room.append(five_room)\n",
    "\n",
    "    # exec resale\n",
    "    exec = room['exec_unit'] / room['total_dwelling_units'] \n",
    "    prop_exec.append(exec)\n",
    "    \n",
    "    # multigen resale\n",
    "    multigen = room['multigen_unit'] / room['total_dwelling_units'] \n",
    "    prop_multigen.append(multigen)\n",
    "\n",
    "    # studio apt resale\n",
    "    studio = room['studio_apartment'] / room['total_dwelling_units'] \n",
    "    prop_studio_apt.append(studio)  \n",
    "\n",
    "\n",
    "# insert new list into df\n",
    "hdb_df['prop_one_room'] = prop_one_room \n",
    "hdb_df['prop_two_room'] = prop_two_room\n",
    "hdb_df['prop_three_room'] = prop_three_room\n",
    "hdb_df['prop_four_room'] = prop_four_room\n",
    "hdb_df['prop_five_room'] = prop_five_room\n",
    "hdb_df['prop_exec'] = prop_exec\n",
    "hdb_df['prop_multigen'] = prop_multigen\n",
    "hdb_df['prop_studio_apt'] = prop_studio_apt\n",
    "\n",
    "\n",
    "#print(hdb_df.head()) # debug"
   ]
  },
  {
   "cell_type": "markdown",
   "metadata": {},
   "source": [
    "- Third, we want to group the planning areas into the URA's Master Plan zoning. "
   ]
  },
  {
   "cell_type": "code",
   "execution_count": 9,
   "metadata": {},
   "outputs": [
    {
     "name": "stdout",
     "output_type": "stream",
     "text": [
      "       id  flat_type  floor_area_sqm  flat_model  resale_price  tranc_year  tranc_month  mid  hdb_age  max_floor_lvl  multistorey_carpark  total_dwelling_units  one_room_unit  two_room_unit  three_room_unit  four_room_unit  five_room_unit  exec_unit  multigen_unit  studio_apartment planning_area  mall_nearest_distance  mall_within_500m  mall_within_1km  mall_within_2km  hawker_nearest_distance  hawker_within_500m  hawker_within_1km  hawker_within_2km  hawker_food_stalls  mrt_nearest_distance     mrt_name  bus_interchange  mrt_interchange  bus_stop_nearest_distance                           pri_sch_name  nearby_top_sch  prop_one_room  prop_two_room  prop_three_room  prop_four_room  prop_five_room  prop_exec  prop_multigen  prop_studio_apt   region\n",
      "0   88471     4 ROOM            90.0     Model A      680000.0        2016            5   11       15             25                    0                   142              0              0                0              96              46          0              0                 0       Kallang            1094.090418                 0                0                7               154.753357                   1                  3                 13                  84            330.083069      Kallang                0                0                  29.427395               geylang methodist school               0            0.0            0.0              0.0        0.676056        0.323944   0.000000            0.0              0.0  Central\n",
      "1  122598     5 ROOM           130.0    Improved      665000.0        2012            7    8       34              9                    0                   112              0              0                0              56              56          0              0                 0        Bishan             866.941448                 0                1                3               640.151925                   0                  1                  7                  80            903.659703       Bishan                1                1                  58.207761  kuo chuan presbyterian primary school               0            0.0            0.0              0.0        0.500000        0.500000   0.000000            0.0              0.0  Central\n",
      "2  170897  EXECUTIVE           144.0   Apartment      838000.0        2013            7   14       24             16                    0                    90              0              0                0               0              30         60              0                 0   Bukit Batok            1459.579948                 0                0                4              1762.082341                   0                  0                  1                  84           1334.251197  Bukit Batok                1                0                 214.747860                  keming primary school               0            0.0            0.0              0.0        0.000000        0.333333   0.666667            0.0              0.0     West\n",
      "3   86070     4 ROOM           103.0     Model A      550000.0        2012            4    3       29             11                    0                    75              0              0                0              68               7          0              0                 0        Bishan             950.175199                 0                1                4               726.215262                   0                  1                  9                  32            907.453484       Bishan                1                1                  43.396521                   catholic high school               1            0.0            0.0              0.0        0.906667        0.093333   0.000000            0.0              0.0  Central\n",
      "4  153632     4 ROOM            83.0  Simplified      298000.0        2017           12    2       34              4                    0                    48              0              0                0              30              18          0              0                 0        Yishun             729.771895                 0                1                2              1540.151439                   0                  0                  1                  45            412.343032       Khatib                0                0                 129.422752              naval base primary school               0            0.0            0.0              0.0        0.625000        0.375000   0.000000            0.0              0.0    North\n"
     ]
    }
   ],
   "source": [
    "## Develop lists for dictionary reference\n",
    "north_east=['Seletar','Punggol','Sengkang','Serangoon','Hougang','Ang Mo Kio']\n",
    "north = ['Yishun','Simpang','Sembawang','Woodlands','Sungei Kadut','Mandai','Lim Chu Kang','Central Water Catchment']\n",
    "west = ['Western Water Catchment','Choa Chu Kang','Bukit Panjang','Bukit Batok','Tengah','Jurong West','Jurong East','Boon Lay','Pioneer','Clementi','Tuas']\n",
    "central = ['Bukit Timah','Queenstown','Bukit Merah','Tanglin','Bishan','Novena','Toa Payoh','Geylang','Marine Parade','Kallang', 'Rochor','Downtown Core','Outram','River Valley','Orchard','Newton']\n",
    "east = ['Bedok','Paya Lebar','Pasir Ris','Tampines','Changi']\n",
    "\n",
    "\n",
    "# Dictionary for reference\n",
    "regions = {\"North East\":north_east, 'North':north,'West' :west,'East':east,'Central': central}\n",
    "\n",
    "# create a function to locate region\n",
    "def region_locator(area):\n",
    "    for name,region in regions.items():\n",
    "        if area in region:\n",
    "            return name\n",
    "\n",
    "# Mapping new column onto dataframe\n",
    "hdb_df['region'] = hdb_df['planning_area'].map(region_locator)\n",
    "\n",
    "print(hdb_df.head()) # debug"
   ]
  },
  {
   "cell_type": "markdown",
   "metadata": {},
   "source": [
    "- Fourth, we create columns with boolean values by classifying if the resale unit is closest to which line in Singapore."
   ]
  },
  {
   "cell_type": "code",
   "execution_count": 10,
   "metadata": {},
   "outputs": [
    {
     "name": "stdout",
     "output_type": "stream",
     "text": [
      "       id  flat_type  floor_area_sqm  flat_model  resale_price  tranc_year  tranc_month  mid  hdb_age  max_floor_lvl  multistorey_carpark  total_dwelling_units  one_room_unit  two_room_unit  three_room_unit  four_room_unit  five_room_unit  exec_unit  multigen_unit  studio_apartment planning_area  mall_nearest_distance  mall_within_500m  mall_within_1km  mall_within_2km  hawker_nearest_distance  hawker_within_500m  hawker_within_1km  hawker_within_2km  hawker_food_stalls  mrt_nearest_distance     mrt_name  bus_interchange  mrt_interchange  bus_stop_nearest_distance                           pri_sch_name  nearby_top_sch  prop_one_room  prop_two_room  prop_three_room  prop_four_room  prop_five_room  prop_exec  prop_multigen  prop_studio_apt   region  North South Line  North East line  East West Line  Circle Line  Down Town Line  Thomson East Coast Line\n",
      "0   88471     4 ROOM            90.0     Model A      680000.0        2016            5   11       15             25                    0                   142              0              0                0              96              46          0              0                 0       Kallang            1094.090418                 0                0                7               154.753357                   1                  3                 13                  84            330.083069      Kallang                0                0                  29.427395               geylang methodist school               0            0.0            0.0              0.0        0.676056        0.323944   0.000000            0.0              0.0  Central                 0                0               1            0               0                        0\n",
      "1  122598     5 ROOM           130.0    Improved      665000.0        2012            7    8       34              9                    0                   112              0              0                0              56              56          0              0                 0        Bishan             866.941448                 0                1                3               640.151925                   0                  1                  7                  80            903.659703       Bishan                1                1                  58.207761  kuo chuan presbyterian primary school               0            0.0            0.0              0.0        0.500000        0.500000   0.000000            0.0              0.0  Central                 1                0               0            1               0                        0\n",
      "2  170897  EXECUTIVE           144.0   Apartment      838000.0        2013            7   14       24             16                    0                    90              0              0                0               0              30         60              0                 0   Bukit Batok            1459.579948                 0                0                4              1762.082341                   0                  0                  1                  84           1334.251197  Bukit Batok                1                0                 214.747860                  keming primary school               0            0.0            0.0              0.0        0.000000        0.333333   0.666667            0.0              0.0     West                 1                0               0            0               0                        0\n",
      "3   86070     4 ROOM           103.0     Model A      550000.0        2012            4    3       29             11                    0                    75              0              0                0              68               7          0              0                 0        Bishan             950.175199                 0                1                4               726.215262                   0                  1                  9                  32            907.453484       Bishan                1                1                  43.396521                   catholic high school               1            0.0            0.0              0.0        0.906667        0.093333   0.000000            0.0              0.0  Central                 1                0               0            1               0                        0\n",
      "4  153632     4 ROOM            83.0  Simplified      298000.0        2017           12    2       34              4                    0                    48              0              0                0              30              18          0              0                 0        Yishun             729.771895                 0                1                2              1540.151439                   0                  0                  1                  45            412.343032       Khatib                0                0                 129.422752              naval base primary school               0            0.0            0.0              0.0        0.625000        0.375000   0.000000            0.0              0.0    North                 1                0               0            0               0                        0\n"
     ]
    }
   ],
   "source": [
    "# Feature engineer mrt\n",
    "\n",
    "# lists of stations that sit on the respective lines\n",
    "# interchange stations appear more than 1 list\n",
    "north_south_line=['Jurong East','Bukit Batok','Bukit Gombak','Choa Chu Kang','Yew Tee','Kranji','Marsiling','Woodlands','Admiralty','Sembawang','Canberra','Yishun','Khatib','Yio Chu Kang','Ang Mo Kio','Bishan','Braddell','Toa Payoh','Novena','Newton','Orchard','Somerset','Dhoby Ghaut','City Hall','Raffles Place','Marina Bay','Marina South Pier']\n",
    "\n",
    "north_east_line = ['HarbourFront','Outram Park','Chinatown','Clarke Quay','Little India','Farrer Park','Boon Keng','Potong Pasir','Woodleigh','Serangoon','Kovan','Hougang','Buangkok','Hougang','Sengkang','Punggol']\n",
    "\n",
    "east_west_line = ['Tuas Link','Tuas West Road','Tuas Crescent','Gul Circle','Joo Koon','Pioneer','Boon Lay','Lakeside','Chinese Garden','Jurong East','Clementi','Dover','Bouna Vista','Commonwealth','Queenstown','Redhill','Tiong Bahru','Outram Park','Tanjong Pagar','Shenton Way','Raffles Place','City Hall','Bugis','Lavender','Kallang','Aljunied','Paya Lebar','Eunos','Kembangan','Bedok','Tanah Merah','Simei','Tampines','Pasir Ris','Expo','Changi Airport']\n",
    "\n",
    "circle_line = ['HabourFront','Telok Blangah','Labrador Park','Pasir Panjang','Haw Par Villa','Kent Ridge','one-north','Bouna Vista','Holland Village','Farrer Road','Botanic Gardens','Caldecott','Marymount','Bishan','Lorong Chuan','Serangoon','Bartley','Tai Seng','MacPerson','Paya Lebar','Dakota','Mountbatten','Stadium','Nicoll Highway','Promenade','Esplanade','Bras Basah','Dhoby Ghaut']\n",
    "\n",
    "down_town_line = ['Bukit Panjang','Cashew','Hillview','Beauty World','King Albert Park','Sixth Avenue','Tan Kah Kee','Botanic Gardens','Stevens','Newton','Little India','Rochor','Promenade','Bayfront','Downtown','Telok Ayer','Chinatown','Fort Canning','Bencoolen','Jalan Besar','Bendemeer','Geylang Bahru','Matter','MacPherson','Ubi','Kaki Bukit','Bedok North','Bedok Reservoir','Tampines West','Tampines','Tampines East','Upper Changi','Changi Airport']\n",
    "\n",
    "thomson_east_coast_line =['Woodlands North','Woodlands','Woodlands South','Springleaf','Lentor','Mayflower','Bright Hill','Upper Thomson','Caldecott','Stevens','Napier','Orchard Boulevard','Orchard','Great World','Havelock','Outram Park','Maxwell','Shenton Way','Marina Bay','Gardens by the Bay']\n",
    "\n",
    "# create a dictionary\n",
    "mrts = {\"North South Line\":north_south_line, 'North East line':north_east_line,'East West Line' :east_west_line,'Circle Line':circle_line,'Down Town Line': down_town_line,'Thomson East Coast Line':thomson_east_coast_line}\n",
    "\n",
    "# create a function to insert boolean values\n",
    "def test_mrt(row):\n",
    "        if row in station:\n",
    "            return 1\n",
    "        else:\n",
    "            return 0\n",
    "        \n",
    "# insert the values in the dataframe\n",
    "for name,station in mrts.items():\n",
    "    hdb_df[f'{name}'] = hdb_df['mrt_name'].apply(test_mrt)\n",
    "\n",
    "\n",
    "print(hdb_df.head()) # debug"
   ]
  },
  {
   "cell_type": "markdown",
   "metadata": {},
   "source": [
    "- Fifth, we calculate the number of flats in each floor and obtain the floor density. \n",
    "\n",
    "Basically, we want to know the number of units in each floor."
   ]
  },
  {
   "cell_type": "code",
   "execution_count": 11,
   "metadata": {},
   "outputs": [],
   "source": [
    "# Calculate the floor density of each row\n",
    "\n",
    "floor_density = []\n",
    "\n",
    "for index, room in hdb_df.iterrows():\n",
    "    temp = math.ceil(room['total_dwelling_units'] / room['max_floor_lvl'])\n",
    "    floor_density.append(temp)\n",
    "\n",
    "hdb_df['floor_density'] = floor_density\n",
    "\n",
    "#print(hdb_df.head()) # debug\n",
    "    "
   ]
  },
  {
   "cell_type": "markdown",
   "metadata": {},
   "source": [
    "- Sixth, we create a column that would indicate if the resale unit is on the lower, middle, or upper floors of the block using the mid storey_range that was given. "
   ]
  },
  {
   "cell_type": "code",
   "execution_count": 12,
   "metadata": {},
   "outputs": [],
   "source": [
    "# Deriving if the unit is on the lower, middle, or upper floors\n",
    "\n",
    "floor_category = []\n",
    "floor_type = []\n",
    "\n",
    "for index, room in hdb_df.iterrows():\n",
    "    max_floor = room['max_floor_lvl']\n",
    "\n",
    "    lower = max_floor//3\n",
    "    middle = max_floor//3 * 2\n",
    "    upper = max_floor//3 * 3\n",
    "\n",
    "    if room['mid'] < lower:\n",
    "        floor_category.append(1)\n",
    "        floor_type.append('lower')\n",
    "    \n",
    "    elif room['mid'] >= middle:\n",
    "        floor_category.append(3)\n",
    "        floor_type.append('upper')\n",
    "\n",
    "    else:\n",
    "        floor_category.append(2)\n",
    "        floor_type.append('middle')\n",
    "\n",
    "\n",
    "hdb_df['floor_category'] = floor_category\n",
    "#hdb_df['floor_type'] = floor_type # optional use as an object\n"
   ]
  },
  {
   "cell_type": "code",
   "execution_count": 13,
   "metadata": {},
   "outputs": [],
   "source": [
    "# Drop the cols that were used in feature engineering\n",
    "\n",
    "col = ['total_dwelling_units', 'one_room_unit', 'two_room_unit', 'three_room_unit', 'four_room_unit', 'five_room_unit', 'exec_unit',\n",
    "        'multigen_unit', 'studio_apartment', 'hawker_food_stalls', 'mid', 'mall_nearest_distance', 'mall_within_500m', \n",
    "        'mall_within_1km', 'hawker_nearest_distance', 'hawker_within_500m', 'hawker_within_1km', 'mrt_interchange', 'bus_stop_nearest_distance']\n",
    "\n",
    "\n",
    "hdb_df = hdb_df.drop(columns=col)"
   ]
  },
  {
   "cell_type": "code",
   "execution_count": 14,
   "metadata": {},
   "outputs": [
    {
     "name": "stdout",
     "output_type": "stream",
     "text": [
      "(150634, 35)\n",
      "\n",
      "       id  flat_type  floor_area_sqm  flat_model  resale_price  tranc_year  tranc_month  hdb_age  max_floor_lvl  multistorey_carpark planning_area  mall_within_2km  hawker_within_2km  mrt_nearest_distance     mrt_name  bus_interchange                           pri_sch_name  nearby_top_sch  prop_one_room  prop_two_room  prop_three_room  prop_four_room  prop_five_room  prop_exec  prop_multigen  prop_studio_apt   region  North South Line  North East line  East West Line  Circle Line  Down Town Line  Thomson East Coast Line  floor_density  floor_category\n",
      "0   88471     4 ROOM            90.0     Model A      680000.0        2016            5       15             25                    0       Kallang                7                 13            330.083069      Kallang                0               geylang methodist school               0            0.0            0.0              0.0        0.676056        0.323944   0.000000            0.0              0.0  Central                 0                0               1            0               0                        0              6               2\n",
      "1  122598     5 ROOM           130.0    Improved      665000.0        2012            7       34              9                    0        Bishan                3                  7            903.659703       Bishan                1  kuo chuan presbyterian primary school               0            0.0            0.0              0.0        0.500000        0.500000   0.000000            0.0              0.0  Central                 1                0               0            1               0                        0             13               3\n",
      "2  170897  EXECUTIVE           144.0   Apartment      838000.0        2013            7       24             16                    0   Bukit Batok                4                  1           1334.251197  Bukit Batok                1                  keming primary school               0            0.0            0.0              0.0        0.000000        0.333333   0.666667            0.0              0.0     West                 1                0               0            0               0                        0              6               3\n",
      "3   86070     4 ROOM           103.0     Model A      550000.0        2012            4       29             11                    0        Bishan                4                  9            907.453484       Bishan                1                   catholic high school               1            0.0            0.0              0.0        0.906667        0.093333   0.000000            0.0              0.0  Central                 1                0               0            1               0                        0              7               2\n",
      "4  153632     4 ROOM            83.0  Simplified      298000.0        2017           12       34              4                    0        Yishun                2                  1            412.343032       Khatib                0              naval base primary school               0            0.0            0.0              0.0        0.625000        0.375000   0.000000            0.0              0.0    North                 1                0               0            0               0                        0             12               3\n"
     ]
    }
   ],
   "source": [
    "# check final df shape and inspect first 5 rows prior to one-hot encoding\n",
    "print(hdb_df.shape)\n",
    "print()\n",
    "print(hdb_df.head())"
   ]
  },
  {
   "cell_type": "code",
   "execution_count": 15,
   "metadata": {},
   "outputs": [
    {
     "name": "stdout",
     "output_type": "stream",
     "text": [
      "<class 'pandas.core.frame.DataFrame'>\n",
      "Index: 150634 entries, 0 to 150633\n",
      "Data columns (total 35 columns):\n",
      " #   Column                   Non-Null Count   Dtype  \n",
      "---  ------                   --------------   -----  \n",
      " 0   id                       150634 non-null  int64  \n",
      " 1   flat_type                150634 non-null  object \n",
      " 2   floor_area_sqm           150634 non-null  float64\n",
      " 3   flat_model               150634 non-null  object \n",
      " 4   resale_price             150634 non-null  float64\n",
      " 5   tranc_year               150634 non-null  int64  \n",
      " 6   tranc_month              150634 non-null  int64  \n",
      " 7   hdb_age                  150634 non-null  int64  \n",
      " 8   max_floor_lvl            150634 non-null  int64  \n",
      " 9   multistorey_carpark      150634 non-null  int64  \n",
      " 10  planning_area            150634 non-null  object \n",
      " 11  mall_within_2km          150634 non-null  int64  \n",
      " 12  hawker_within_2km        150634 non-null  int64  \n",
      " 13  mrt_nearest_distance     150634 non-null  float64\n",
      " 14  mrt_name                 150634 non-null  object \n",
      " 15  bus_interchange          150634 non-null  int64  \n",
      " 16  pri_sch_name             150634 non-null  object \n",
      " 17  nearby_top_sch           150634 non-null  int64  \n",
      " 18  prop_one_room            150634 non-null  float64\n",
      " 19  prop_two_room            150634 non-null  float64\n",
      " 20  prop_three_room          150634 non-null  float64\n",
      " 21  prop_four_room           150634 non-null  float64\n",
      " 22  prop_five_room           150634 non-null  float64\n",
      " 23  prop_exec                150634 non-null  float64\n",
      " 24  prop_multigen            150634 non-null  float64\n",
      " 25  prop_studio_apt          150634 non-null  float64\n",
      " 26  region                   150634 non-null  object \n",
      " 27  North South Line         150634 non-null  int64  \n",
      " 28  North East line          150634 non-null  int64  \n",
      " 29  East West Line           150634 non-null  int64  \n",
      " 30  Circle Line              150634 non-null  int64  \n",
      " 31  Down Town Line           150634 non-null  int64  \n",
      " 32  Thomson East Coast Line  150634 non-null  int64  \n",
      " 33  floor_density            150634 non-null  int64  \n",
      " 34  floor_category           150634 non-null  int64  \n",
      "dtypes: float64(11), int64(18), object(6)\n",
      "memory usage: 41.4+ MB\n",
      "None\n"
     ]
    }
   ],
   "source": [
    "print(hdb_df.info())"
   ]
  },
  {
   "cell_type": "markdown",
   "metadata": {},
   "source": [
    "## Creating data dictionary for engineered features\n",
    "\n",
    "\n",
    "|Feature|Type|Description|\n",
    "|---|---|---|\n",
    "|nearby_top_sch|int64|indicates if the resale unit is near a top primary school with a value of 1 else 0|\n",
    "|prop_one_room|float64|proportion of one room flats in a block|\n",
    "|prop_two_room|float64|proportion of two room flats in a block|\n",
    "|prop_three_room|float64|proportion of three room flats in a block|\n",
    "|prop_four_room|float64|proportion of four room flats in a block|\n",
    "|prop_exec|float64|proportion of executive flats in a block|\n",
    "|prop_multigen|float64|proportion of multi-generation flats in a block|\n",
    "|prop_studio_apt|float64|proportion of studio apartments in a block|\n",
    "|North South Line|int64|indicates if the resale unit has a mrt on the North-South line in the vicnity with a value of 1 else 0|\n",
    "|North East Line|int64|indicates if the resale unit has a mrt on the North-East line in the vicnity with a value of 1 else 0|\n",
    "|East West Line|int64|indicates if the resale unit has a mrt on the East-West line in the vicnity with a value of 1 else 0|\n",
    "|Circle Line|int64|indicates if the resale unit has a mrt on the Circle line in the vicnity with a value of 1 else 0|\n",
    "|Down Town Line|int64|indicates if the resale unit has a mrt on the Down Town line in the vicnity with a value of 1 else 0|\n",
    "|Thomson East Coast Line|int64|indicates if the resale unit has a mrt on the Thomson East Coast Line in the vicnity with a value of 1 else 0|\n",
    "|floor_density|int64|the number of flats in each floor|\n",
    "|floor_category|int64|a value of 1 if situated on the lower floors, 2 for middle floors, 3 for upper floors|\n"
   ]
  },
  {
   "cell_type": "code",
   "execution_count": 16,
   "metadata": {},
   "outputs": [],
   "source": [
    "# export one csv before dummifying categorical columns\n",
    "hdb_df.to_csv('../datasets/hdb_no_dummy.csv')"
   ]
  },
  {
   "cell_type": "code",
   "execution_count": 17,
   "metadata": {},
   "outputs": [],
   "source": [
    "# Dummify the region, flat_type, flat_model columns\n",
    "\n",
    "hdb_df = pd.get_dummies(data= hdb_df, columns = ['flat_type', 'flat_model', 'region' ], drop_first=True)"
   ]
  },
  {
   "cell_type": "code",
   "execution_count": 18,
   "metadata": {},
   "outputs": [
    {
     "name": "stdout",
     "output_type": "stream",
     "text": [
      "(150634, 61)\n",
      "       id  floor_area_sqm  resale_price  tranc_year  tranc_month  hdb_age  max_floor_lvl  multistorey_carpark planning_area  mall_within_2km  hawker_within_2km  mrt_nearest_distance     mrt_name  bus_interchange                           pri_sch_name  nearby_top_sch  prop_one_room  prop_two_room  prop_three_room  prop_four_room  prop_five_room  prop_exec  prop_multigen  prop_studio_apt  North South Line  North East line  East West Line  Circle Line  Down Town Line  Thomson East Coast Line  floor_density  floor_category  flat_type_2 ROOM  flat_type_3 ROOM  flat_type_4 ROOM  flat_type_5 ROOM  flat_type_EXECUTIVE  flat_type_MULTI-GENERATION  flat_model_Adjoined flat  flat_model_Apartment  flat_model_DBSS  flat_model_Improved  flat_model_Improved-Maisonette  flat_model_Maisonette  flat_model_Model A  flat_model_Model A-Maisonette  flat_model_Model A2  flat_model_Multi Generation  flat_model_New Generation  flat_model_Premium Apartment  flat_model_Premium Apartment Loft  flat_model_Premium Maisonette  flat_model_Simplified  flat_model_Standard  flat_model_Terrace  flat_model_Type S1  flat_model_Type S2  region_East  region_North  region_North East  region_West\n",
      "0   88471            90.0      680000.0        2016            5       15             25                    0       Kallang                7                 13            330.083069      Kallang                0               geylang methodist school               0            0.0            0.0              0.0        0.676056        0.323944   0.000000            0.0              0.0                 0                0               1            0               0                        0              6               2             False             False              True             False                False                       False                     False                 False            False                False                           False                  False                True                          False                False                        False                      False                         False                              False                          False                  False                False               False               False               False        False         False              False        False\n",
      "1  122598           130.0      665000.0        2012            7       34              9                    0        Bishan                3                  7            903.659703       Bishan                1  kuo chuan presbyterian primary school               0            0.0            0.0              0.0        0.500000        0.500000   0.000000            0.0              0.0                 1                0               0            1               0                        0             13               3             False             False             False              True                False                       False                     False                 False            False                 True                           False                  False               False                          False                False                        False                      False                         False                              False                          False                  False                False               False               False               False        False         False              False        False\n",
      "2  170897           144.0      838000.0        2013            7       24             16                    0   Bukit Batok                4                  1           1334.251197  Bukit Batok                1                  keming primary school               0            0.0            0.0              0.0        0.000000        0.333333   0.666667            0.0              0.0                 1                0               0            0               0                        0              6               3             False             False             False             False                 True                       False                     False                  True            False                False                           False                  False               False                          False                False                        False                      False                         False                              False                          False                  False                False               False               False               False        False         False              False         True\n",
      "3   86070           103.0      550000.0        2012            4       29             11                    0        Bishan                4                  9            907.453484       Bishan                1                   catholic high school               1            0.0            0.0              0.0        0.906667        0.093333   0.000000            0.0              0.0                 1                0               0            1               0                        0              7               2             False             False              True             False                False                       False                     False                 False            False                False                           False                  False                True                          False                False                        False                      False                         False                              False                          False                  False                False               False               False               False        False         False              False        False\n",
      "4  153632            83.0      298000.0        2017           12       34              4                    0        Yishun                2                  1            412.343032       Khatib                0              naval base primary school               0            0.0            0.0              0.0        0.625000        0.375000   0.000000            0.0              0.0                 1                0               0            0               0                        0             12               3             False             False              True             False                False                       False                     False                 False            False                False                           False                  False               False                          False                False                        False                      False                         False                              False                          False                   True                False               False               False               False        False          True              False        False\n"
     ]
    }
   ],
   "source": [
    "# Final inspection of dataframe before exporting to csv\n",
    "print(hdb_df.shape)\n",
    "print(hdb_df.head())"
   ]
  },
  {
   "cell_type": "code",
   "execution_count": 19,
   "metadata": {},
   "outputs": [],
   "source": [
    "# Export to cleaned dataframe to csv\n",
    "\n",
    "hdb_df.to_csv('../datasets/hdb_cleaned2.csv')"
   ]
  }
 ],
 "metadata": {
  "kernelspec": {
   "display_name": "GA_env",
   "language": "python",
   "name": "python3"
  },
  "language_info": {
   "codemirror_mode": {
    "name": "ipython",
    "version": 3
   },
   "file_extension": ".py",
   "mimetype": "text/x-python",
   "name": "python",
   "nbconvert_exporter": "python",
   "pygments_lexer": "ipython3",
   "version": "3.12.2"
  }
 },
 "nbformat": 4,
 "nbformat_minor": 2
}
